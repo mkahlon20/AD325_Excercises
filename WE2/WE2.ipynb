{
 "cells": [
  {
   "cell_type": "markdown",
   "id": "b25d478f",
   "metadata": {},
   "source": [
    "count_duplicates"
   ]
  },
  {
   "cell_type": "code",
   "execution_count": 1,
   "id": "41cfe3e6",
   "metadata": {},
   "outputs": [],
   "source": [
    "def count_duplicates(nums):\n",
    "    seen = set()\n",
    "    duplicates = 0\n",
    "    \n",
    "    for n in nums:\n",
    "        if n in seen:\n",
    "            duplicates += 1\n",
    "        else:\n",
    "            seen.add(n)\n",
    "    \n",
    "    return duplicates"
   ]
  },
  {
   "cell_type": "code",
   "execution_count": 2,
   "id": "e83f961d",
   "metadata": {},
   "outputs": [
    {
     "name": "stdout",
     "output_type": "stream",
     "text": [
      "6\n"
     ]
    }
   ],
   "source": [
    "a = [1, 4, 2, 4, 7, 1, 1, 9, 2, 3, 4, 1]\n",
    "print(count_duplicates(a))  # Output: 6"
   ]
  },
  {
   "cell_type": "markdown",
   "id": "fca86482",
   "metadata": {},
   "source": [
    "is_stack_sorted"
   ]
  },
  {
   "cell_type": "code",
   "execution_count": 3,
   "id": "d91f6286",
   "metadata": {},
   "outputs": [],
   "source": [
    "def is_stack_sorted(stack):\n",
    "    aux = []\n",
    "    sorted_flag = True\n",
    "\n",
    "    if len(stack) <= 1:\n",
    "        return True\n",
    "\n",
    "    prev = stack.pop()\n",
    "    aux.append(prev)\n",
    "\n",
    "    while len(stack) > 0:\n",
    "        curr = stack.pop()\n",
    "        aux.append(curr)\n",
    "        if curr < prev:   # changed direction (we want non-increasing from top to bottom)\n",
    "            sorted_flag = False\n",
    "        prev = curr\n",
    "\n",
    "    # restore original stack\n",
    "    while len(aux) > 0:\n",
    "        stack.append(aux.pop())\n",
    "\n",
    "    return sorted_flag"
   ]
  },
  {
   "cell_type": "code",
   "execution_count": 4,
   "id": "d9d6673a",
   "metadata": {},
   "outputs": [
    {
     "name": "stdout",
     "output_type": "stream",
     "text": [
      "True\n",
      "False\n"
     ]
    }
   ],
   "source": [
    "print(is_stack_sorted([20, 20, 17, 11, 8, 8, 3, 2]))  # True\n",
    "print(is_stack_sorted([18, 12, 15, 6, 1]))            # False"
   ]
  },
  {
   "cell_type": "markdown",
   "id": "35941ea7",
   "metadata": {},
   "source": [
    "median"
   ]
  },
  {
   "cell_type": "code",
   "execution_count": 5,
   "id": "681c7ccd",
   "metadata": {},
   "outputs": [],
   "source": [
    "def median(nums):\n",
    "    # make a copy so we don't change the original list\n",
    "    sorted_nums = sorted(nums)\n",
    "    mid_index = len(sorted_nums) // 2\n",
    "    return sorted_nums[mid_index]"
   ]
  },
  {
   "cell_type": "code",
   "execution_count": 6,
   "id": "037a8a1b",
   "metadata": {},
   "outputs": [
    {
     "name": "stdout",
     "output_type": "stream",
     "text": [
      "5\n",
      "25\n"
     ]
    }
   ],
   "source": [
    "print(median([5, 2, 4, 17, 55, 4, 3, 26, 18, 2, 17]))   # 5\n",
    "print(median([42, 37, 1, 97, 1, 2, 7, 42, 3, 25, 89, 15, 10, 29, 27]))  # 25"
   ]
  },
  {
   "cell_type": "code",
   "execution_count": null,
   "id": "7e26ac11",
   "metadata": {},
   "outputs": [],
   "source": []
  }
 ],
 "metadata": {
  "kernelspec": {
   "display_name": "Python 3",
   "language": "python",
   "name": "python3"
  },
  "language_info": {
   "codemirror_mode": {
    "name": "ipython",
    "version": 3
   },
   "file_extension": ".py",
   "mimetype": "text/x-python",
   "name": "python",
   "nbconvert_exporter": "python",
   "pygments_lexer": "ipython3",
   "version": "3.14.0"
  }
 },
 "nbformat": 4,
 "nbformat_minor": 5
}
