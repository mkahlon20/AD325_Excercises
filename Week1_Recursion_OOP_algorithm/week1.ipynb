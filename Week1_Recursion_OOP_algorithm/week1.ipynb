{
 "cells": [
  {
   "cell_type": "markdown",
   "id": "036a2fc5",
   "metadata": {},
   "source": [
    "## BankAccount Class\n",
    "Implemented a simple bank account with deposit and withdraw methods, showing use of OOP concepts."
   ]
  },
  {
   "cell_type": "code",
   "execution_count": 8,
   "id": "513cc5a2",
   "metadata": {},
   "outputs": [],
   "source": [
    "class BankAccount:\n",
    "    def __init__(self, name):\n",
    "        self._name = name\n",
    "        self._balance = 0.0\n",
    "\n",
    "    @property\n",
    "    def name(self):\n",
    "        return self._name\n",
    "\n",
    "    @property\n",
    "    def balance(self):\n",
    "        return self._balance\n",
    "\n",
    "    def deposit(self, amount):\n",
    "        if amount > 0:\n",
    "            self._balance += amount\n",
    "\n",
    "    def withdraw(self, amount):\n",
    "        if amount > 0 and amount <= self._balance:\n",
    "            self._balance -= amount\n"
   ]
  },
  {
   "cell_type": "code",
   "execution_count": 9,
   "id": "6260bab7",
   "metadata": {},
   "outputs": [
    {
     "name": "stdout",
     "output_type": "stream",
     "text": [
      "Veer\n",
      "150.0\n"
     ]
    }
   ],
   "source": [
    "account = BankAccount(\"Veer\")\n",
    "account.deposit(200)\n",
    "account.withdraw(50)\n",
    "\n",
    "print(account.name)      # Veer\n",
    "print(account.balance)   # 150.0"
   ]
  },
  {
   "cell_type": "markdown",
   "id": "1c768990",
   "metadata": {},
   "source": [
    "## BankAccount Transaction Fee\n",
    "Adds a transaction fee to each withdrawl if balance allows."
   ]
  },
  {
   "cell_type": "code",
   "execution_count": 15,
   "id": "1da6843d",
   "metadata": {},
   "outputs": [],
   "source": [
    "class BankAccount:\n",
    "    def __init__(self, name):\n",
    "        self._name = name\n",
    "        self._balance = 0.0\n",
    "        self._transaction_fee = 0.0\n",
    "\n",
    "    @property\n",
    "    def name(self):\n",
    "        return self._name\n",
    "\n",
    "    @property\n",
    "    def balance(self):\n",
    "        return self._balance\n",
    "\n",
    "    @property\n",
    "    def transaction_fee(self):\n",
    "        return self._transaction_fee\n",
    "\n",
    "    @transaction_fee.setter\n",
    "    def transaction_fee(self, fee):\n",
    "        if fee >= 0:\n",
    "            self._transaction_fee = fee\n",
    "\n",
    "    def deposit(self, amount):\n",
    "        if amount > 0:\n",
    "            self._balance += amount\n",
    "\n",
    "    def withdraw(self, amount):\n",
    "        total = amount + self._transaction_fee\n",
    "        if amount > 0 and total <= self._balance:\n",
    "            self._balance -= total\n",
    "\n",
    "    def __str__(self):\n",
    "        return f\"{self._name}, ${self._balance:.2f}\""
   ]
  },
  {
   "cell_type": "code",
   "execution_count": 16,
   "id": "d7260e8a",
   "metadata": {},
   "outputs": [
    {
     "name": "stdout",
     "output_type": "stream",
     "text": [
      "87.5\n"
     ]
    }
   ],
   "source": [
    "acct = BankAccount(\"Veer\")\n",
    "acct.deposit(100)\n",
    "acct.transaction_fee = 2.5\n",
    "acct.withdraw(10)\n",
    "print(acct.balance)   # 87.5 (100 - 10 - 2.5)"
   ]
  },
  {
   "cell_type": "markdown",
   "id": "b1846a4d",
   "metadata": {},
   "source": [
    "## BankAccount __str__ Method\n",
    "Adds a string representation to the BankAccount class so printing the object shows the account name and balance, formatted to two decimal places."
   ]
  },
  {
   "cell_type": "code",
   "execution_count": 17,
   "id": "21df593d",
   "metadata": {},
   "outputs": [
    {
     "name": "stdout",
     "output_type": "stream",
     "text": [
      "Veer, $34.50\n"
     ]
    }
   ],
   "source": [
    "a = BankAccount(\"Veer\")\n",
    "a.deposit(34.5)\n",
    "print(str(a))   # Veer, $34.50"
   ]
  },
  {
   "cell_type": "markdown",
   "id": "dd7a622d",
   "metadata": {},
   "source": [
    "## Factorial (Recursion)\n",
    "Calculates the factorial of a number using recursion. Returns 1 when n is 0 or 1."
   ]
  },
  {
   "cell_type": "code",
   "execution_count": 18,
   "id": "8f49fe4c",
   "metadata": {},
   "outputs": [],
   "source": [
    "def factorial(n):\n",
    "    # Returns the factorial of n using recursion\n",
    "    if n <= 1:\n",
    "        return 1\n",
    "    return n * factorial(n - 1)\n"
   ]
  },
  {
   "cell_type": "code",
   "execution_count": 19,
   "id": "8851feba",
   "metadata": {},
   "outputs": [
    {
     "name": "stdout",
     "output_type": "stream",
     "text": [
      "24\n",
      "1\n",
      "1\n"
     ]
    }
   ],
   "source": [
    "# test cell\n",
    "print(factorial(4))  # 24\n",
    "print(factorial(0))  # 1\n",
    "print(factorial(1))  # 1\n"
   ]
  },
  {
   "cell_type": "code",
   "execution_count": null,
   "id": "1e9c5b5f",
   "metadata": {},
   "outputs": [],
   "source": []
  }
 ],
 "metadata": {
  "kernelspec": {
   "display_name": "Python 3",
   "language": "python",
   "name": "python3"
  },
  "language_info": {
   "codemirror_mode": {
    "name": "ipython",
    "version": 3
   },
   "file_extension": ".py",
   "mimetype": "text/x-python",
   "name": "python",
   "nbconvert_exporter": "python",
   "pygments_lexer": "ipython3",
   "version": "3.14.0"
  }
 },
 "nbformat": 4,
 "nbformat_minor": 5
}
